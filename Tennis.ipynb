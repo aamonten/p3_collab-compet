{
 "cells": [
  {
   "cell_type": "markdown",
   "metadata": {},
   "source": [
    "# Collaboration and Competition\n",
    "\n",
    "---\n",
    "\n",
    "In this notebook, you will learn how to use the Unity ML-Agents environment for the third project of the [Deep Reinforcement Learning Nanodegree](https://www.udacity.com/course/deep-reinforcement-learning-nanodegree--nd893) program.\n",
    "\n",
    "### 1. Start the Environment\n",
    "\n",
    "We begin by importing the necessary packages.  If the code cell below returns an error, please revisit the project instructions to double-check that you have installed [Unity ML-Agents](https://github.com/Unity-Technologies/ml-agents/blob/master/docs/Installation.md) and [NumPy](http://www.numpy.org/)."
   ]
  },
  {
   "cell_type": "code",
   "execution_count": 1,
   "metadata": {},
   "outputs": [],
   "source": [
    "from unityagents import UnityEnvironment\n",
    "import torch\n",
    "import numpy as np\n",
    "from collections import namedtuple, deque\n",
    "from ddpg_agent import Agent\n",
    "\n",
    "\n",
    "import matplotlib.pyplot as plt\n",
    "%matplotlib inline"
   ]
  },
  {
   "cell_type": "markdown",
   "metadata": {},
   "source": [
    "Next, we will start the environment!  **_Before running the code cell below_**, change the `file_name` parameter to match the location of the Unity environment that you downloaded.\n",
    "\n",
    "- **Mac**: `\"path/to/Tennis.app\"`\n",
    "- **Windows** (x86): `\"path/to/Tennis_Windows_x86/Tennis.exe\"`\n",
    "- **Windows** (x86_64): `\"path/to/Tennis_Windows_x86_64/Tennis.exe\"`\n",
    "- **Linux** (x86): `\"path/to/Tennis_Linux/Tennis.x86\"`\n",
    "- **Linux** (x86_64): `\"path/to/Tennis_Linux/Tennis.x86_64\"`\n",
    "- **Linux** (x86, headless): `\"path/to/Tennis_Linux_NoVis/Tennis.x86\"`\n",
    "- **Linux** (x86_64, headless): `\"path/to/Tennis_Linux_NoVis/Tennis.x86_64\"`\n",
    "\n",
    "For instance, if you are using a Mac, then you downloaded `Tennis.app`.  If this file is in the same folder as the notebook, then the line below should appear as follows:\n",
    "```\n",
    "env = UnityEnvironment(file_name=\"Tennis.app\")\n",
    "```"
   ]
  },
  {
   "cell_type": "code",
   "execution_count": 2,
   "metadata": {},
   "outputs": [
    {
     "name": "stderr",
     "output_type": "stream",
     "text": [
      "INFO:unityagents:\n",
      "'Academy' started successfully!\n",
      "Unity Academy name: Academy\n",
      "        Number of Brains: 1\n",
      "        Number of External Brains : 1\n",
      "        Lesson number : 0\n",
      "        Reset Parameters :\n",
      "\t\t\n",
      "Unity brain name: TennisBrain\n",
      "        Number of Visual Observations (per agent): 0\n",
      "        Vector Observation space type: continuous\n",
      "        Vector Observation space size (per agent): 8\n",
      "        Number of stacked Vector Observation: 3\n",
      "        Vector Action space type: continuous\n",
      "        Vector Action space size (per agent): 2\n",
      "        Vector Action descriptions: , \n"
     ]
    }
   ],
   "source": [
    "env = UnityEnvironment(file_name=\"Tennis.app\")"
   ]
  },
  {
   "cell_type": "markdown",
   "metadata": {},
   "source": [
    "Environments contain **_brains_** which are responsible for deciding the actions of their associated agents. Here we check for the first brain available, and set it as the default brain we will be controlling from Python."
   ]
  },
  {
   "cell_type": "code",
   "execution_count": 3,
   "metadata": {},
   "outputs": [],
   "source": [
    "# get the default brain\n",
    "brain_name = env.brain_names[0]\n",
    "brain = env.brains[brain_name]"
   ]
  },
  {
   "cell_type": "markdown",
   "metadata": {},
   "source": [
    "### 2. Examine the State and Action Spaces\n",
    "\n",
    "In this environment, two agents control rackets to bounce a ball over a net. If an agent hits the ball over the net, it receives a reward of +0.1.  If an agent lets a ball hit the ground or hits the ball out of bounds, it receives a reward of -0.01.  Thus, the goal of each agent is to keep the ball in play.\n",
    "\n",
    "The observation space consists of 8 variables corresponding to the position and velocity of the ball and racket. Two continuous actions are available, corresponding to movement toward (or away from) the net, and jumping. \n",
    "\n",
    "Run the code cell below to print some information about the environment."
   ]
  },
  {
   "cell_type": "code",
   "execution_count": 4,
   "metadata": {},
   "outputs": [
    {
     "name": "stdout",
     "output_type": "stream",
     "text": [
      "Number of agents: 2\n",
      "Size of each action: 2\n",
      "There are 2 agents. Each observes a state with length: 24\n",
      "The state for the first agent looks like: [ 0.          0.          0.          0.          0.          0.\n",
      "  0.          0.          0.          0.          0.          0.\n",
      "  0.          0.          0.          0.         -6.65278625 -1.5\n",
      " -0.          0.          6.83172083  6.         -0.          0.        ]\n"
     ]
    }
   ],
   "source": [
    "# reset the environment\n",
    "env_info = env.reset(train_mode=True)[brain_name]\n",
    "\n",
    "# number of agents \n",
    "num_agents = len(env_info.agents)\n",
    "print('Number of agents:', num_agents)\n",
    "\n",
    "# size of each action\n",
    "action_size = brain.vector_action_space_size\n",
    "print('Size of each action:', action_size)\n",
    "\n",
    "# examine the state space \n",
    "states = env_info.vector_observations\n",
    "state_size = states.shape[1]\n",
    "print('There are {} agents. Each observes a state with length: {}'.format(states.shape[0], state_size))\n",
    "print('The state for the first agent looks like:', states[0])"
   ]
  },
  {
   "cell_type": "markdown",
   "metadata": {},
   "source": [
    "### 3. Take Random Actions in the Environment\n",
    "\n",
    "In the next code cell, you will learn how to use the Python API to control the agents and receive feedback from the environment.\n",
    "\n",
    "Once this cell is executed, you will watch the agents' performance, if they select actions at random with each time step.  A window should pop up that allows you to observe the agents.\n",
    "\n",
    "Of course, as part of the project, you'll have to change the code so that the agents are able to use their experiences to gradually choose better actions when interacting with the environment!"
   ]
  },
  {
   "cell_type": "code",
   "execution_count": 5,
   "metadata": {},
   "outputs": [
    {
     "name": "stdout",
     "output_type": "stream",
     "text": [
      "Score (max over agents) from episode 1: 0.0\n",
      "Score (max over agents) from episode 2: 0.0\n",
      "Score (max over agents) from episode 3: 0.0\n",
      "Score (max over agents) from episode 4: 0.0\n",
      "Score (max over agents) from episode 5: 0.0\n"
     ]
    }
   ],
   "source": [
    "for i in range(1, 6):                                      # play game for 5 episodes\n",
    "    env_info = env.reset(train_mode=False)[brain_name]     # reset the environment    \n",
    "    states = env_info.vector_observations                  # get the current state (for each agent)\n",
    "    scores = np.zeros(num_agents)                          # initialize the score (for each agent)\n",
    "    while True:\n",
    "        actions = np.random.randn(num_agents, action_size) # select an action (for each agent)\n",
    "        actions = np.clip(actions, -1, 1)                  # all actions between -1 and 1\n",
    "        env_info = env.step(actions)[brain_name]           # send all actions to tne environment\n",
    "        next_states = env_info.vector_observations         # get next state (for each agent)\n",
    "        rewards = env_info.rewards                         # get reward (for each agent)\n",
    "        dones = env_info.local_done                        # see if episode finished\n",
    "        scores += env_info.rewards                         # update the score (for each agent)\n",
    "        states = next_states                               # roll over states to next time step\n",
    "        if np.any(dones):                                  # exit loop if episode finished\n",
    "            break\n",
    "    print('Score (max over agents) from episode {}: {}'.format(i, np.max(scores)))"
   ]
  },
  {
   "cell_type": "markdown",
   "metadata": {},
   "source": [
    "### 4. Train agent using DDPG Algorithm\n",
    "\n",
    "Now it's your turn to train your own agent to solve the environment!  When training the environment, set `train_mode=True`, so that the line for resetting the environment looks like the following:\n",
    "```python\n",
    "env_info = env.reset(train_mode=True)[brain_name]\n",
    "```"
   ]
  },
  {
   "cell_type": "code",
   "execution_count": 6,
   "metadata": {},
   "outputs": [],
   "source": [
    "BATCH_SIZE = 128        # minibatch size\n",
    "BUFFER_SIZE = int(1e6)  # replay buffer size\n",
    "GAMMA = 0.99            # discount factor\n",
    "LR_ACTOR = 1e-3         # learning rate of the actor \n",
    "LR_CRITIC = 1e-3        # learning rate of the critic\n",
    "TAU = 6e-2              # for soft update of target parameters"
   ]
  },
  {
   "cell_type": "code",
   "execution_count": 7,
   "metadata": {},
   "outputs": [],
   "source": [
    "agent_0 = Agent(0, state_size, action_size, gamma=GAMMA, tau=TAU, replay_buffer_size=BUFFER_SIZE, batch_size=BATCH_SIZE, lr_actor=LR_ACTOR, lr_critic=LR_CRITIC)\n",
    "agent_1 = Agent(1, state_size, action_size, gamma=GAMMA, tau=TAU, replay_buffer_size=BUFFER_SIZE, batch_size=BATCH_SIZE, lr_actor=LR_ACTOR, lr_critic=LR_CRITIC)"
   ]
  },
  {
   "cell_type": "code",
   "execution_count": 8,
   "metadata": {},
   "outputs": [],
   "source": [
    "def act (states, eps=1, add_noise=True):\n",
    "    # each agent selects an action\n",
    "    action_0 = agent_0.act(states, eps)           \n",
    "    action_1 = agent_1.act(states, eps)\n",
    "        \n",
    "    # combine actions and...\n",
    "    actions = np.concatenate((action_0, action_1), axis=0) \n",
    "    actions = np.reshape(actions, (1, action_size*num_agents))\n",
    "    return actions\n",
    "\n",
    "def step (states, actions, rewards, next_states, done):\n",
    "    # let agents step\n",
    "    agent_0.step(states, actions, rewards[0], next_states, done) \n",
    "    agent_1.step(states, actions, rewards[1], next_states, done) \n",
    "    \n",
    "\n",
    "def train(n_episodes=2000, eps=5, eps_end=0.01, eps_decay=0.997, solve_score=0.5): \n",
    "    all_scores = []\n",
    "    avg_list = []\n",
    "    scores_window = deque(maxlen=100)\n",
    "    for i_episode in range(1, n_episodes+1):\n",
    "        env_info = env.reset(train_mode=True)[brain_name]      # reset the environment    \n",
    "        states = env_info.vector_observations\n",
    "        states = np.reshape(states, (1, state_size*num_agents))\n",
    "        agent_0.reset()\n",
    "        agent_1.reset()\n",
    "        scores = np.zeros(num_agents)\n",
    "        while True:\n",
    "\n",
    "            actions = act(states, eps)\n",
    "\n",
    "            # send them to environment\n",
    "            env_info = env.step(actions)[brain_name]\n",
    "\n",
    "            # merge next states into one state space\n",
    "            next_states = np.reshape(env_info.vector_observations, (1, state_size*num_agents))     \n",
    "\n",
    "            rewards = env_info.rewards                         \n",
    "            done = env_info.local_done    \n",
    "\n",
    "            step(states, actions, rewards, next_states, done)\n",
    "\n",
    "            scores += rewards                                  \n",
    "            states = next_states                               \n",
    "\n",
    "            if np.any(done):                                  \n",
    "                break\n",
    "\n",
    "        # for each episode\n",
    "        eps = max(eps_end, eps*eps_decay)\n",
    "        scores_window.append(np.max(scores))\n",
    "        all_scores.append(np.max(scores))\n",
    "        \n",
    "        avg = np.average(scores_window)\n",
    "        avg_list.append(avg) \n",
    "\n",
    "        if i_episode % 10 == 0:\n",
    "            print('Episode {}\\tAverage Reward: {:.3f}'.format(i_episode, np.mean(scores_window)))\n",
    "\n",
    "        if np.mean(scores_window) >= solve_score:\n",
    "            print('\\nEnvironment solved in {:d} episodes!\\tAverage Score: {:.3f}'.format(\n",
    "                i_episode-100, np.mean(scores_window)))\n",
    "            torch.save(agent_0.actor_local.state_dict(), 'actor_0.pth')\n",
    "            torch.save(agent_0.critic_local.state_dict(), 'critic_0.pth')\n",
    "            torch.save(agent_1.actor_local.state_dict(), 'actor_1.pth')\n",
    "            torch.save(agent_1.critic_local.state_dict(), 'critic_1.pth')\n",
    "            break\n",
    "\n",
    "    return all_scores, avg_list"
   ]
  },
  {
   "cell_type": "code",
   "execution_count": 9,
   "metadata": {},
   "outputs": [
    {
     "name": "stdout",
     "output_type": "stream",
     "text": [
      "Episode 10\tAverage Reward: 0.000\n",
      "Episode 20\tAverage Reward: 0.000\n",
      "Episode 30\tAverage Reward: 0.000\n",
      "Episode 40\tAverage Reward: 0.003\n",
      "Episode 50\tAverage Reward: 0.004\n",
      "Episode 60\tAverage Reward: 0.005\n",
      "Episode 70\tAverage Reward: 0.007\n",
      "Episode 80\tAverage Reward: 0.006\n",
      "Episode 90\tAverage Reward: 0.007\n",
      "Episode 100\tAverage Reward: 0.007\n",
      "Episode 110\tAverage Reward: 0.008\n",
      "Episode 120\tAverage Reward: 0.010\n",
      "Episode 130\tAverage Reward: 0.011\n",
      "Episode 140\tAverage Reward: 0.013\n",
      "Episode 150\tAverage Reward: 0.013\n",
      "Episode 160\tAverage Reward: 0.013\n",
      "Episode 170\tAverage Reward: 0.012\n",
      "Episode 180\tAverage Reward: 0.012\n",
      "Episode 190\tAverage Reward: 0.012\n",
      "Episode 200\tAverage Reward: 0.013\n",
      "Episode 210\tAverage Reward: 0.014\n",
      "Episode 220\tAverage Reward: 0.013\n",
      "Episode 230\tAverage Reward: 0.017\n",
      "Episode 240\tAverage Reward: 0.017\n",
      "Episode 250\tAverage Reward: 0.018\n",
      "Episode 260\tAverage Reward: 0.017\n",
      "Episode 270\tAverage Reward: 0.017\n",
      "Episode 280\tAverage Reward: 0.023\n",
      "Episode 290\tAverage Reward: 0.026\n",
      "Episode 300\tAverage Reward: 0.026\n",
      "Episode 310\tAverage Reward: 0.029\n",
      "Episode 320\tAverage Reward: 0.030\n",
      "Episode 330\tAverage Reward: 0.032\n",
      "Episode 340\tAverage Reward: 0.031\n",
      "Episode 350\tAverage Reward: 0.035\n",
      "Episode 360\tAverage Reward: 0.040\n",
      "Episode 370\tAverage Reward: 0.042\n",
      "Episode 380\tAverage Reward: 0.040\n",
      "Episode 390\tAverage Reward: 0.043\n",
      "Episode 400\tAverage Reward: 0.045\n",
      "Episode 410\tAverage Reward: 0.048\n",
      "Episode 420\tAverage Reward: 0.050\n",
      "Episode 430\tAverage Reward: 0.051\n",
      "Episode 440\tAverage Reward: 0.053\n",
      "Episode 450\tAverage Reward: 0.054\n",
      "Episode 460\tAverage Reward: 0.055\n",
      "Episode 470\tAverage Reward: 0.061\n",
      "Episode 480\tAverage Reward: 0.062\n",
      "Episode 490\tAverage Reward: 0.061\n",
      "Episode 500\tAverage Reward: 0.062\n",
      "Episode 510\tAverage Reward: 0.059\n",
      "Episode 520\tAverage Reward: 0.061\n",
      "Episode 530\tAverage Reward: 0.060\n",
      "Episode 540\tAverage Reward: 0.064\n",
      "Episode 550\tAverage Reward: 0.063\n",
      "Episode 560\tAverage Reward: 0.065\n",
      "Episode 570\tAverage Reward: 0.064\n",
      "Episode 580\tAverage Reward: 0.068\n",
      "Episode 590\tAverage Reward: 0.071\n",
      "Episode 600\tAverage Reward: 0.073\n",
      "Episode 610\tAverage Reward: 0.073\n",
      "Episode 620\tAverage Reward: 0.076\n",
      "Episode 630\tAverage Reward: 0.078\n",
      "Episode 640\tAverage Reward: 0.080\n",
      "Episode 650\tAverage Reward: 0.085\n",
      "Episode 660\tAverage Reward: 0.086\n",
      "Episode 670\tAverage Reward: 0.086\n",
      "Episode 680\tAverage Reward: 0.088\n",
      "Episode 690\tAverage Reward: 0.089\n",
      "Episode 700\tAverage Reward: 0.087\n",
      "Episode 710\tAverage Reward: 0.086\n",
      "Episode 720\tAverage Reward: 0.085\n",
      "Episode 730\tAverage Reward: 0.086\n",
      "Episode 740\tAverage Reward: 0.083\n",
      "Episode 750\tAverage Reward: 0.081\n",
      "Episode 760\tAverage Reward: 0.082\n",
      "Episode 770\tAverage Reward: 0.085\n",
      "Episode 780\tAverage Reward: 0.085\n",
      "Episode 790\tAverage Reward: 0.091\n",
      "Episode 800\tAverage Reward: 0.097\n",
      "Episode 810\tAverage Reward: 0.110\n",
      "Episode 820\tAverage Reward: 0.128\n",
      "Episode 830\tAverage Reward: 0.135\n",
      "Episode 840\tAverage Reward: 0.143\n",
      "Episode 850\tAverage Reward: 0.162\n",
      "Episode 860\tAverage Reward: 0.195\n",
      "Episode 870\tAverage Reward: 0.218\n",
      "Episode 880\tAverage Reward: 0.289\n",
      "Episode 890\tAverage Reward: 0.412\n",
      "Episode 900\tAverage Reward: 0.476\n",
      "Episode 910\tAverage Reward: 0.596\n",
      "Episode 920\tAverage Reward: 0.658\n",
      "Episode 930\tAverage Reward: 0.784\n",
      "Episode 940\tAverage Reward: 0.913\n",
      "\n",
      "Environment solved in 844 episodes!\tAverage Score: 1.014\n"
     ]
    }
   ],
   "source": [
    "scores, avg_list = train(eps=8, solve_score=1.0);"
   ]
  },
  {
   "cell_type": "markdown",
   "metadata": {},
   "source": [
    "### 5. Plotting the result"
   ]
  },
  {
   "cell_type": "code",
   "execution_count": 10,
   "metadata": {
    "scrolled": true
   },
   "outputs": [
    {
     "data": {
      "image/png": "[encoded data removed]",
      "text/plain": [
       "<Figure size 432x288 with 1 Axes>"
      ]
     },
     "metadata": {
      "needs_background": "light"
     },
     "output_type": "display_data"
    }
   ],
   "source": [
    "fig = plt.figure()\n",
    "ax = fig.add_subplot(111)\n",
    "plt.plot(np.arange(1, len(scores)+1), scores)\n",
    "plt.plot(np.arange(1, len(avg_list)+1), avg_list)\n",
    "plt.ylabel('Score')\n",
    "plt.xlabel('Episode #')\n",
    "plt.show()"
   ]
  },
  {
   "cell_type": "markdown",
   "metadata": {},
   "source": [
    "### 6. Watch agents play!"
   ]
  },
  {
   "cell_type": "code",
   "execution_count": 11,
   "metadata": {},
   "outputs": [],
   "source": [
    "def play (num_episodes=1000): \n",
    "    agent_0.actor_local.load_state_dict(torch.load('actor_0.pth'))\n",
    "    agent_0.critic_local.load_state_dict(torch.load('critic_0.pth'))\n",
    "\n",
    "    agent_1.actor_local.load_state_dict(torch.load('actor_1.pth'))\n",
    "    agent_1.critic_local.load_state_dict(torch.load('critic_1.pth'))\n",
    "\n",
    "    env_info = env.reset(train_mode=False)[brain_name]        \n",
    "    states = env_info.vector_observations\n",
    "    states = np.reshape(states, (1, state_size*num_agents))\n",
    "\n",
    "    for i in range(num_episodes):\n",
    "        actions = act(states, add_noise=False)\n",
    "        env_info = env.step(actions)[brain_name]\n",
    "        next_states = np.reshape(env_info.vector_observations, (1, state_size*num_agents))\n",
    "        rewards = env_info.rewards                         \n",
    "        done = env_info.local_done    \n",
    "        step(states, actions, rewards, next_states, done)\n",
    "        states = next_states"
   ]
  },
  {
   "cell_type": "code",
   "execution_count": null,
   "metadata": {},
   "outputs": [],
   "source": [
    "play()"
   ]
  },
  {
   "cell_type": "code",
   "execution_count": null,
   "metadata": {},
   "outputs": [],
   "source": [
    "env.close()"
   ]
  }
 ],
 "metadata": {
  "kernelspec": {
   "display_name": "drlnd",
   "language": "python",
   "name": "drlnd"
  },
  "language_info": {
   "codemirror_mode": {
    "name": "ipython",
    "version": 3
   },
   "file_extension": ".py",
   "mimetype": "text/x-python",
   "name": "python",
   "nbconvert_exporter": "python",
   "pygments_lexer": "ipython3",
   "version": "3.6.7"
  }
 },
 "nbformat": 4,
 "nbformat_minor": 2
}
